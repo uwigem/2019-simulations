{
  "cells": [
    {
      "cell_type": "code",
      "source": [
        "import tellurium as te\n",
        "\n",
        "# model called r\n",
        "\n",
        "concentrations =  [0, 0.01, 0.05, 0.1, 0.25, 0.5, 1, 2.5, 5, 10]\n",
        "\n",
        "for i in concentrations:\n",
        "    r.resetToOrigin()\n",
        "    r.CBD = i\n",
        "    m = r.simulate(0, 1, 100, ['time', 'OD'])\n",
        "    print(m)\n",
        "    te.plotArray (m, show=False, labels = ['Concentration=' + str(i)], resetColorCycle = False)\n",
        "    \n",
        "te.show()"
      ],
      "outputs": [],
      "execution_count": null,
      "metadata": {
        "collapsed": false,
        "outputHidden": false,
        "inputHidden": false
      }
    }
  ],
  "metadata": {
    "kernelspec": {
      "name": "python3",
      "language": "python",
      "display_name": "Python 3 (built-in)"
    },
    "kernel_info": {
      "name": "python3"
    },
    "language_info": {
      "name": "python",
      "version": "3.6.3",
      "mimetype": "text/x-python",
      "codemirror_mode": {
        "name": "ipython",
        "version": 3
      },
      "pygments_lexer": "ipython3",
      "nbconvert_exporter": "python",
      "file_extension": ".py"
    }
  },
  "nbformat": 4,
  "nbformat_minor": 4
}